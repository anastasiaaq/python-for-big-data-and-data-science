{
 "nbformat": 4,
 "nbformat_minor": 0,
 "metadata": {
  "colab": {
   "provenance": []
  },
  "kernelspec": {
   "name": "python3",
   "display_name": "Python 3 (ipykernel)",
   "language": "python"
  },
  "language_info": {
   "name": "python"
  }
 },
 "cells": [
  {
   "cell_type": "markdown",
   "source": [
    "# I. Оператори порівняння та логічні оператори. Умови."
   ],
   "metadata": {
    "id": "qDEi2Pi-4yUC"
   }
  },
  {
   "cell_type": "markdown",
   "source": [
    "1. (5б) Створіть цілочисленну змінну зі своїм щасливим або улюбленим числом. Напишіть код, який би автоматизовував наступну задачу.\n",
    "\n",
    "Якщо число парне, помножте його на 2 та виведіть результат на екран.\n",
    "\n",
    "Але якщо число непарне, помножте його на 3 та додайте 1 і виведіть на екран."
   ],
   "metadata": {
    "id": "3v8D4Dkm43Ua"
   }
  },
  {
   "cell_type": "code",
   "metadata": {
    "id": "dlVjc-Nu4bmb",
    "ExecuteTime": {
     "end_time": "2025-02-28T17:42:27.973657Z",
     "start_time": "2025-02-28T17:42:27.968196Z"
    }
   },
   "source": [
    "a = 31\n",
    "\n",
    "if 31 % 2 == 0:\n",
    "    a *= 2\n",
    "    print(a)\n",
    "else:\n",
    "    a = a*3 + 1\n",
    "    print(a)"
   ],
   "outputs": [
    {
     "name": "stdout",
     "output_type": "stream",
     "text": [
      "94\n"
     ]
    }
   ],
   "execution_count": 18
  },
  {
   "cell_type": "markdown",
   "source": [
    "2. (9б) Створіть змінну, що посилається на список. Якщо список пустий, додайте будь-який елемент у кінець списку. Якщо ж ні, то нічого не робіть."
   ],
   "metadata": {
    "id": "H669P0QK5BI_"
   }
  },
  {
   "cell_type": "code",
   "source": [
    "my_list = []\n",
    "print(my_list)\n",
    "\n",
    "if len(my_list) == 0:\n",
    "    my_list.append(4)\n",
    "\n",
    "print(my_list)"
   ],
   "metadata": {
    "id": "ecWlfra45f6E",
    "ExecuteTime": {
     "end_time": "2025-02-28T17:35:30.108927Z",
     "start_time": "2025-02-28T17:35:30.098198Z"
    }
   },
   "outputs": [
    {
     "name": "stdout",
     "output_type": "stream",
     "text": [
      "[]\n",
      "[4]\n"
     ]
    }
   ],
   "execution_count": 7
  },
  {
   "cell_type": "markdown",
   "source": [
    "3. (13б) Створіть рядок зі своїм імʼям латинкою. Напишіть код, який би автоматизовував наступну задачу.\n",
    "\n",
    "Якщо в імені є літера \"а\"\n",
    " або \"i\", Виведіть на екран повідомлення \"A or I is in the name\".\n",
    "\n",
    "\n",
    "\n",
    "Якщо в імені є літери \"o\" та \"n\", Виведіть на екран повідомлення \"O and N is in the name\".\n",
    "\n",
    "Також якщо в імені немає літери \"о\", але є \"n\", Виведіть на екран повідомлення \"Only N is in the name\".\n",
    "\n",
    "В решті випадків виведіть на екран повідомлення \"There is no N in the name, but there might be O\".\n",
    "\n",
    "Зверніть увагу, що, наприклад, для імені \"Antonina\" буде виведено два повідомлення."
   ],
   "metadata": {
    "id": "h9Y3cMUd5h85"
   }
  },
  {
   "cell_type": "code",
   "source": [
    "my_name = \"Anastasia\"\n",
    "\n",
    "if \"a\" in my_name or \"i\" in my_name:\n",
    "    print(\"A or I is in the name\")\n",
    "if \"o\" in my_name and \"n\" in my_name:\n",
    "    print(\"O and N is in the name\")\n",
    "if \"o\" not in my_name and \"n\" in my_name:\n",
    "    print(\"Only N is in the name\")\n",
    "else:\n",
    "    print(\"There is no N in the name, but there might be O\")"
   ],
   "metadata": {
    "id": "bUH4LUx35u52",
    "ExecuteTime": {
     "end_time": "2025-02-28T17:38:53.799736Z",
     "start_time": "2025-02-28T17:38:53.788409Z"
    }
   },
   "outputs": [
    {
     "name": "stdout",
     "output_type": "stream",
     "text": [
      "A or I is in the name\n",
      "Only N is in the name\n"
     ]
    }
   ],
   "execution_count": 9
  },
  {
   "cell_type": "markdown",
   "source": [
    "# II. Comprehensions."
   ],
   "metadata": {
    "id": "wPCXJv4354cU"
   }
  },
  {
   "cell_type": "markdown",
   "source": [
    "4. (5б) Створіть список, використовуючи if (не if-else), range та comprehension."
   ],
   "metadata": {
    "id": "jULLW5jN55Pw"
   }
  },
  {
   "cell_type": "code",
   "source": [
    "list_4 = [x for x in range(27) if x % 2 == 0]\n",
    "print(list_4)"
   ],
   "metadata": {
    "id": "mlZalnVC6W3F",
    "ExecuteTime": {
     "end_time": "2025-02-28T17:42:10.675916Z",
     "start_time": "2025-02-28T17:42:10.668303Z"
    }
   },
   "outputs": [
    {
     "name": "stdout",
     "output_type": "stream",
     "text": [
      "[0, 2, 4, 6, 8, 10, 12, 14, 16, 18, 20, 22, 24, 26]\n"
     ]
    }
   ],
   "execution_count": 17
  },
  {
   "cell_type": "markdown",
   "source": [
    "5. (9б) Створіть словник, використовуючи dict comprehension, що містить if else. Коли слід використовувати comprehensions, а коли їх слід уникати?"
   ],
   "metadata": {
    "id": "LqhEQ4JW6XcC"
   }
  },
  {
   "cell_type": "code",
   "source": [
    "dict_5 = {x: \"even\" if x % 2 == 0 else \"odd\" for x in range(27)}\n",
    "dict_5"
   ],
   "metadata": {
    "id": "1yVaFbOs6hta",
    "ExecuteTime": {
     "end_time": "2025-02-28T17:43:53.434366Z",
     "start_time": "2025-02-28T17:43:53.427859Z"
    }
   },
   "outputs": [
    {
     "data": {
      "text/plain": [
       "{0: 'even',\n",
       " 1: 'odd',\n",
       " 2: 'even',\n",
       " 3: 'odd',\n",
       " 4: 'even',\n",
       " 5: 'odd',\n",
       " 6: 'even',\n",
       " 7: 'odd',\n",
       " 8: 'even',\n",
       " 9: 'odd',\n",
       " 10: 'even',\n",
       " 11: 'odd',\n",
       " 12: 'even',\n",
       " 13: 'odd',\n",
       " 14: 'even',\n",
       " 15: 'odd',\n",
       " 16: 'even',\n",
       " 17: 'odd',\n",
       " 18: 'even',\n",
       " 19: 'odd',\n",
       " 20: 'even',\n",
       " 21: 'odd',\n",
       " 22: 'even',\n",
       " 23: 'odd',\n",
       " 24: 'even',\n",
       " 25: 'odd',\n",
       " 26: 'even'}"
      ]
     },
     "execution_count": 20,
     "metadata": {},
     "output_type": "execute_result"
    }
   ],
   "execution_count": 20
  },
  {
   "cell_type": "markdown",
   "source": "Comprehensions слід використовувати, якщо змінну можна описати досить просто. Не варто використовувати comprehensions, якщо для цього треба використовувати comprehension у comprehension'і, для чистоти та зрозумілості коду.",
   "metadata": {
    "id": "wbkzNhKq6hzz"
   }
  },
  {
   "cell_type": "markdown",
   "source": [
    "6. (9б) Створіть список з рядками та запишіть його у змінну. Створіть ще один список на основі попереднього, де кожен рядок буде містити тільки три перших заглавних символи. Наприклад: ['hello', 'i', 'dont', 'care'] -> ['HEL', 'I', 'DON', 'CAR']. Використання comprehensions обовʼязкове."
   ],
   "metadata": {
    "id": "ZlqB8G3G6lHP"
   }
  },
  {
   "cell_type": "code",
   "source": [
    "list_6 = \"I love Computer Science\"\n",
    "\n",
    "result_6 = [x[:3].upper() for x in list_6.split()]\n",
    "\n",
    "result_6"
   ],
   "metadata": {
    "id": "nw6rz0bR60VC",
    "ExecuteTime": {
     "end_time": "2025-02-28T17:51:48.886222Z",
     "start_time": "2025-02-28T17:51:48.877758Z"
    }
   },
   "outputs": [
    {
     "data": {
      "text/plain": [
       "['I', 'LOV', 'COM', 'SCI']"
      ]
     },
     "execution_count": 27,
     "metadata": {},
     "output_type": "execute_result"
    }
   ],
   "execution_count": 27
  },
  {
   "cell_type": "markdown",
   "source": [
    "# III. Цикли."
   ],
   "metadata": {
    "id": "Tj573IAH64Fz"
   }
  },
  {
   "cell_type": "markdown",
   "source": [
    "7. (5б) Продемонструйте роботу циклу while. Не можна використовувати True для запуску циклу, щоб уникнути безкінечного циклу!"
   ],
   "metadata": {
    "id": "tN_33xdE65H5"
   }
  },
  {
   "cell_type": "code",
   "source": [
    "a_7 = 40\n",
    "\n",
    "while a_7 > 2:\n",
    "    a_7 /= 2\n",
    "\n",
    "print(a_7)"
   ],
   "metadata": {
    "id": "Kd9FO6yG63P5",
    "ExecuteTime": {
     "end_time": "2025-02-28T17:54:44.586827Z",
     "start_time": "2025-02-28T17:54:44.578095Z"
    }
   },
   "outputs": [
    {
     "name": "stdout",
     "output_type": "stream",
     "text": [
      "1.25\n"
     ]
    }
   ],
   "execution_count": 35
  },
  {
   "cell_type": "markdown",
   "source": [
    "8. (5б) Напишіть програму, яка виведе на екран непарні числа в діапазоні від 0 до 20 включно."
   ],
   "metadata": {
    "id": "x2CmfZO-7pW0"
   }
  },
  {
   "cell_type": "code",
   "source": [
    "for i in range(0, 21):\n",
    "    if i % 2 == 1:\n",
    "        print(i)"
   ],
   "metadata": {
    "id": "aCSRYA6s7tkF",
    "ExecuteTime": {
     "end_time": "2025-02-28T17:55:47.275337Z",
     "start_time": "2025-02-28T17:55:47.267954Z"
    }
   },
   "outputs": [
    {
     "name": "stdout",
     "output_type": "stream",
     "text": [
      "1\n",
      "3\n",
      "5\n",
      "7\n",
      "9\n",
      "11\n",
      "13\n",
      "15\n",
      "17\n",
      "19\n"
     ]
    }
   ],
   "execution_count": 39
  },
  {
   "cell_type": "markdown",
   "source": [
    "9. (13б) Створіть список з елементами булевого типу або None. Використовуючи цикли, отримайте в результаті список з кортежами, де перший елемент кортежу - індекс(ціле число), а другий елемент - відповідне значення з першого списку.\n",
    "\n",
    "Наприклад, [True, True, None, False] -> [(0, True), (1, True), (2, None), (3, False)]"
   ],
   "metadata": {
    "id": "MDWNocZD7t_B"
   }
  },
  {
   "cell_type": "code",
   "source": [
    "list_9 = [True, False, True]\n",
    "result = []\n",
    "\n",
    "for i, item in enumerate(list_9):\n",
    "    result.append((i, item))\n",
    "\n",
    "result"
   ],
   "metadata": {
    "id": "0EUyjMdp7yfh",
    "ExecuteTime": {
     "end_time": "2025-02-28T17:58:43.304248Z",
     "start_time": "2025-02-28T17:58:43.297390Z"
    }
   },
   "outputs": [
    {
     "data": {
      "text/plain": [
       "[(0, True), (1, False), (2, True)]"
      ]
     },
     "execution_count": 46,
     "metadata": {},
     "output_type": "execute_result"
    }
   ],
   "execution_count": 46
  },
  {
   "cell_type": "markdown",
   "source": [
    "10. (9б) Створіть словник, де ключі - назви книжок, а значення - їхня кількість у наявності в Вашій міні-бібліотеці. Бібліотека має містити щонайменше 6 книжок (6 пар значень у словнику) і щонайбільше 10 (пар значень). Використовуючи цикли, оновіть словник (не створюйте новий) так, щоби кількість книг у наявності збільшилося на 5 кожної книги. Наприклад,\n",
    "{'It': 3, 'Fault stars': 10, 'Bible': 17, 'Psychological romance': 4, 'Harry Potter': 13} -> {'It': 8, 'Fault stars': 15, 'Bible': 22, 'Psychological romance': 9, 'Harry Potter': 18}"
   ],
   "metadata": {
    "id": "-6XUqlcG7zKs"
   }
  },
  {
   "cell_type": "code",
   "source": [
    "dict_10 = {'It': 3, 'Fault stars': 10, 'Bible': 17, 'Psychological romance': 4, 'Harry Potter': 13}\n",
    "\n",
    "for key, value in dict_10.items():\n",
    "    dict_10[key] += 5\n",
    "\n",
    "dict_10"
   ],
   "metadata": {
    "id": "Ceoj9wwb791q",
    "ExecuteTime": {
     "end_time": "2025-02-28T18:00:38.476113Z",
     "start_time": "2025-02-28T18:00:38.467796Z"
    }
   },
   "outputs": [
    {
     "data": {
      "text/plain": [
       "{'It': 8,\n",
       " 'Fault stars': 15,\n",
       " 'Bible': 22,\n",
       " 'Psychological romance': 9,\n",
       " 'Harry Potter': 18}"
      ]
     },
     "execution_count": 47,
     "metadata": {},
     "output_type": "execute_result"
    }
   ],
   "execution_count": 47
  },
  {
   "cell_type": "markdown",
   "source": [
    "11. (5б) Визначте цілочислену змінну n, що належить проміжку від 4 до 10 включно. Використовуючи цикли, виведіть в консоль наступний патерн.\n",
    "\n",
    "#\n",
    "##\n",
    "###\n",
    "####\n",
    "\n",
    "... #*n\n"
   ],
   "metadata": {
    "id": "QLzyJM288AC7"
   }
  },
  {
   "cell_type": "code",
   "source": [
    "n = 5\n",
    "text = \"\"\n",
    "\n",
    "for i in range(0, n):\n",
    "    text += \"#\"\n",
    "    print(text)"
   ],
   "metadata": {
    "id": "KOpng87s8Duz",
    "ExecuteTime": {
     "end_time": "2025-02-28T18:08:22.394166Z",
     "start_time": "2025-02-28T18:08:22.387634Z"
    }
   },
   "outputs": [
    {
     "name": "stdout",
     "output_type": "stream",
     "text": [
      "#\n",
      "##\n",
      "###\n",
      "####\n",
      "#####\n"
     ]
    }
   ],
   "execution_count": 60
  },
  {
   "cell_type": "markdown",
   "source": [
    "12. (13б) Гра \"Нумо вгадай\".\n",
    "Розробіть просту гру, де користувач має вгадати випадкове число від 1 до 100. Для генерації випадкового числа використовуйте функцію random.randint(a, b) (тут a та b включно). Для отримання числа з консолі використовуйте функцію input(), результат якої обовʼязково явно приведіть до типу int.\n",
    "\n",
    "Підказка: використовуйте цикл while та умови if-else, щоб повідомити користувачу піказки (напр. \"Більше\", \"Менше\") поки користувач не вгадає. По завершенню виведіть кількість спроб, які знадобилися для вгадування."
   ],
   "metadata": {
    "id": "_bd-bqAT8EHn"
   }
  },
  {
   "cell_type": "code",
   "source": [
    "import random\n",
    "\n",
    "answer = random.randint(1, 100)\n",
    "guessed = False\n",
    "\n",
    "while not guessed:\n",
    "    guess = int(input(\"Вгадайте число від 0 до 100:\"))\n",
    "    if guess > answer:\n",
    "        print(\"Назване число більше за загадане\")\n",
    "    if guess < answer:\n",
    "        print(\"Назване число менше за загадане\")\n",
    "    if guess == answer:\n",
    "        print(\"Ви вгадали число!\")\n",
    "        guessed = True\n"
   ],
   "metadata": {
    "id": "IK9nnxFK8Hkl",
    "ExecuteTime": {
     "end_time": "2025-02-28T18:06:48.352794Z",
     "start_time": "2025-02-28T18:06:44.027547Z"
    }
   },
   "outputs": [
    {
     "name": "stdout",
     "output_type": "stream",
     "text": [
      "Назване число більше за загадане\n",
      "Ви вгадали число!\n"
     ]
    }
   ],
   "execution_count": 59
  },
  {
   "cell_type": "markdown",
   "source": [
    "# Вітаю! Ви велика(ий) молодець, що впоралась(вся). Похваліть себе та побалуйте чимось приємним. Я Вами пишаюся."
   ],
   "metadata": {
    "id": "PXoXWb7Z8IGi"
   }
  }
 ]
}
