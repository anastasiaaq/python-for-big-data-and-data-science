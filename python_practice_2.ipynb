{
 "nbformat": 4,
 "nbformat_minor": 0,
 "metadata": {
  "colab": {
   "provenance": []
  },
  "kernelspec": {
   "name": "python3",
   "display_name": "Python 3 (ipykernel)",
   "language": "python"
  },
  "language_info": {
   "name": "python"
  }
 },
 "cells": [
  {
   "cell_type": "markdown",
   "source": [
    "# I. Змінні та памʼять."
   ],
   "metadata": {
    "id": "p9wwt0LZzNvn"
   }
  },
  {
   "cell_type": "markdown",
   "source": [
    "1. Створити змінні, що посилаються на два цілих числа, що однакові за значенням, де значення належить проміжку від -5 до 256. Перевірте, чи будуть ці змінні рівні тільки за значенням або ж ще будуть посилатися на один і той самий обʼєкт в памʼяті? Наведіть код та дайте текстову відповідь нижче."
   ],
   "metadata": {
    "id": "HTJrrm95xSV9"
   }
  },
  {
   "cell_type": "code",
   "metadata": {
    "id": "TATni2vzayjG",
    "ExecuteTime": {
     "end_time": "2025-02-24T14:20:04.340391Z",
     "start_time": "2025-02-24T14:20:04.330741Z"
    }
   },
   "source": [
    "a = 10\n",
    "b = 10\n",
    "\n",
    "id(a), id(b)"
   ],
   "outputs": [
    {
     "data": {
      "text/plain": [
       "(140703253165128, 140703253165128)"
      ]
     },
     "execution_count": 12,
     "metadata": {},
     "output_type": "execute_result"
    }
   ],
   "execution_count": 12
  },
  {
   "cell_type": "markdown",
   "source": "Обидві ці змінні посилають на одну комірку пам'яті.",
   "metadata": {
    "id": "zfRG_o3WbRdg"
   }
  },
  {
   "cell_type": "markdown",
   "source": [
    "2. За допомогою якої функції можна перевірити належність змінної до вказаного типу даних (напр. чи змінна True посилається на значення булевого та цілочисленого типу)?"
   ],
   "metadata": {
    "id": "ISORzt6M3vAt"
   }
  },
  {
   "cell_type": "code",
   "source": [
    "print(isinstance(True, bool))\n",
    "print((a, int))\n",
    "print(isinstance(True, int))\n",
    "print(isinstance(True, float))"
   ],
   "metadata": {
    "id": "9vL9CFaMbfyo",
    "ExecuteTime": {
     "end_time": "2025-02-24T14:14:55.388947Z",
     "start_time": "2025-02-24T14:14:55.383963Z"
    }
   },
   "outputs": [
    {
     "name": "stdout",
     "output_type": "stream",
     "text": [
      "True\n",
      "(10, <class 'int'>)\n",
      "True\n",
      "False\n"
     ]
    }
   ],
   "execution_count": 5
  },
  {
   "cell_type": "markdown",
   "source": [
    "# II. Цілі числа та числа з рухомою комою"
   ],
   "metadata": {
    "id": "tRxugKAxwYLw"
   }
  },
  {
   "cell_type": "markdown",
   "source": [
    "3. Створити дві змінні, що посилаються на будь-які ціле число та число з рухомою комою та продемонструвати такі арифметичні операції: додавання, віднімання, ділення, множення, ділення без залишку, ділення по модулю, приведення до ступеню. Всі результати операцій вивести на екран."
   ],
   "metadata": {
    "id": "NLHkgd5Gybc8"
   }
  },
  {
   "cell_type": "code",
   "source": [
    "c = 59\n",
    "d = 3.8\n",
    "\n",
    "print(\"Додавання: a + b ->\", c + d)\n",
    "print(\"Віднімання: a - b ->\", c - d)\n",
    "print(\"Множення: a * b ->\", c * d)\n",
    "print(\"Ділення: a / b ->\", c / d)\n",
    "print(\"Ділення без залишку: a // b ->\", c // d)\n",
    "print(\"Ділення по модулю: a % b ->\", c % d)\n",
    "print(\"Піднесення до степеню: a ** b ->\", c ** d)"
   ],
   "metadata": {
    "id": "nb8u_3pjb2cA",
    "ExecuteTime": {
     "end_time": "2025-02-24T14:20:34.522409Z",
     "start_time": "2025-02-24T14:20:34.510680Z"
    }
   },
   "outputs": [
    {
     "name": "stdout",
     "output_type": "stream",
     "text": [
      "Додавання: a + b -> 62.8\n",
      "Віднімання: a - b -> 55.2\n",
      "Множення: a * b -> 224.2\n",
      "Ділення: a / b -> 15.526315789473685\n",
      "Ділення без залишку: a // b -> 15.0\n",
      "Ділення по модулю: a % b -> 2.0000000000000027\n",
      "Піднесення до степеню: a ** b -> 5360899.2357628485\n"
     ]
    }
   ],
   "execution_count": 15
  },
  {
   "cell_type": "markdown",
   "source": [
    "4. Використовуючи змінні з вправи 3, продемонструйте механізм явного перетворення типів, де числа з рухомою комою перетворюються на цілі числа. Також визначте змінну, що посилається на значення булевого типу і спробуйте явно привести її до цілого числа."
   ],
   "metadata": {
    "id": "1kBClKgPzZnC"
   }
  },
  {
   "cell_type": "code",
   "source": [
    "c_to_float = int(c)\n",
    "d_to_int = int(d)\n",
    "print(f\"c до переведення: {c}, c після переведення: {c_to_float}\")\n",
    "print(f\"d до переведення: {d}, d після переведення: {d_to_int}\")\n",
    "\n",
    "e = True\n",
    "\n",
    "e_to_int = int(e)\n",
    "print(f\"e до переведення: {e}, d після переведення: {e_to_int}\")"
   ],
   "metadata": {
    "id": "TbqJbkeUcKsD",
    "ExecuteTime": {
     "end_time": "2025-02-24T14:26:40.932144Z",
     "start_time": "2025-02-24T14:26:40.920589Z"
    }
   },
   "outputs": [
    {
     "name": "stdout",
     "output_type": "stream",
     "text": [
      "c до переведення: 59, c після переведення: 59\n",
      "d до переведення: 3.8, d після переведення: 3\n",
      "e до переведення: True, d після переведення: 1\n"
     ]
    }
   ],
   "execution_count": 22
  },
  {
   "cell_type": "markdown",
   "source": [
    "# IІІ. Рядки (String)."
   ],
   "metadata": {
    "id": "EVJ7AflwxrZi"
   }
  },
  {
   "cell_type": "markdown",
   "source": [
    "5. Створити пустий рядок двома різними способами."
   ],
   "metadata": {
    "id": "_s5ECzz9zE61"
   }
  },
  {
   "cell_type": "code",
   "source": [
    "empty_1 = \"\"\n",
    "empty_2 = str()\n",
    "\n",
    "print(empty_1, empty_2)"
   ],
   "metadata": {
    "id": "fkZJHu9Scvc-",
    "ExecuteTime": {
     "end_time": "2025-02-24T14:28:41.019191Z",
     "start_time": "2025-02-24T14:28:41.010065Z"
    }
   },
   "outputs": [
    {
     "name": "stdout",
     "output_type": "stream",
     "text": [
      " \n"
     ]
    }
   ],
   "execution_count": 26
  },
  {
   "cell_type": "markdown",
   "source": [
    "6. Створити рядок з апострофом. Зробити його сирим. Вивести обидва рядка на екран."
   ],
   "metadata": {
    "id": "4Bdn9J3MzLf_"
   }
  },
  {
   "cell_type": "code",
   "source": [
    "not_raw = \"рум'яний\"\n",
    "print(not_raw)\n",
    "\n",
    "raw = r\"рум'яний\"\n",
    "print(raw)"
   ],
   "metadata": {
    "id": "ivji_hsmc0GH",
    "ExecuteTime": {
     "end_time": "2025-02-24T14:48:05.356079Z",
     "start_time": "2025-02-24T14:48:05.352193Z"
    }
   },
   "outputs": [
    {
     "name": "stdout",
     "output_type": "stream",
     "text": [
      "рум'яний\n",
      "рум'яний\n"
     ]
    }
   ],
   "execution_count": 47
  },
  {
   "cell_type": "markdown",
   "source": [
    "7. Створити змінну, що буде посилатися на Ваше прізвище латинкою. Створити форматований рядок, який буде мати вигляд \"My surname is ______\", де на місці нижніх підкреслень буде Ваше прізвище зі змінної."
   ],
   "metadata": {
    "id": "bg_d8wM4z8dS"
   }
  },
  {
   "cell_type": "code",
   "source": [
    "my_surname = \"Dvoilenko\"\n",
    "\n",
    "str_my_surname = f\"My surname is {my_surname}\"\n",
    "print(str_my_surname)"
   ],
   "metadata": {
    "id": "kuxFgpWndACq",
    "ExecuteTime": {
     "end_time": "2025-02-24T14:39:10.276793Z",
     "start_time": "2025-02-24T14:39:10.272099Z"
    }
   },
   "outputs": [
    {
     "name": "stdout",
     "output_type": "stream",
     "text": [
      "My surname is Dvoilenko\n"
     ]
    }
   ],
   "execution_count": 32
  },
  {
   "cell_type": "markdown",
   "source": [
    "8. Маючи рядок \"My dog is crazy.\" перетворити його на список [\"my\", \"dog\", \"is\", \"crazy\"]"
   ],
   "metadata": {
    "id": "1Nc6RqvQ0hxU"
   }
  },
  {
   "cell_type": "code",
   "source": [
    "result_8 = \"My dog is crazy\".split()\n",
    "print(result_8)"
   ],
   "metadata": {
    "id": "w1Ya4RqedUhw",
    "ExecuteTime": {
     "end_time": "2025-02-24T14:43:21.436424Z",
     "start_time": "2025-02-24T14:43:21.432252Z"
    }
   },
   "outputs": [
    {
     "name": "stdout",
     "output_type": "stream",
     "text": [
      "['My', 'dog', 'is', 'crazy']\n"
     ]
    }
   ],
   "execution_count": 40
  },
  {
   "cell_type": "markdown",
   "source": [
    "# IV. Робота зі списками."
   ],
   "metadata": {
    "id": "GYVqN9uP1D4n"
   }
  },
  {
   "cell_type": "markdown",
   "source": [
    "9. Створити список двома різними за синтаксисом способами. За допомогою вбудованої функції обчисліть довжину одного з них."
   ],
   "metadata": {
    "id": "7-DeDunw2sO-"
   }
  },
  {
   "cell_type": "code",
   "source": [
    "list_1 = [1, 2, 3]\n",
    "list_2 = list((1, 2, 3))\n",
    "\n",
    "print(list_1, list_2)\n",
    "print(\"Довжина list_1 =\", len(list_1))"
   ],
   "metadata": {
    "id": "zxg06Uuxdyoh",
    "ExecuteTime": {
     "end_time": "2025-02-24T14:45:55.302389Z",
     "start_time": "2025-02-24T14:45:55.297220Z"
    }
   },
   "outputs": [
    {
     "name": "stdout",
     "output_type": "stream",
     "text": [
      "[1, 2, 3] [1, 2, 3]\n",
      "Довжина list_1 = 3\n"
     ]
    }
   ],
   "execution_count": 45
  },
  {
   "cell_type": "markdown",
   "source": [
    "10. Створіть два списка та за допомогою спеціального методу додайте другий з них в якості останнього елемента першого."
   ],
   "metadata": {
    "id": "8vmGUTjL22gI"
   }
  },
  {
   "cell_type": "code",
   "source": [
    "list_3 = [1, 2, 3, 4, 5]\n",
    "list_4 = [6, 7, 8, 9]\n",
    "\n",
    "list_3.append(list_4)\n",
    "print(list_3)"
   ],
   "metadata": {
    "id": "uHtjWYw7d7hm",
    "ExecuteTime": {
     "end_time": "2025-02-24T14:50:37.974795Z",
     "start_time": "2025-02-24T14:50:37.971362Z"
    }
   },
   "outputs": [
    {
     "name": "stdout",
     "output_type": "stream",
     "text": [
      "[1, 2, 3, 4, 5, [6, 7, 8, 9]]\n"
     ]
    }
   ],
   "execution_count": 48
  },
  {
   "cell_type": "markdown",
   "source": [
    "11. Створіть список, де елементами цього списку також є списки. Отримай перший елемент з останнього рядка та виведи значення на екран."
   ],
   "metadata": {
    "id": "JC3BkD-67_--"
   }
  },
  {
   "cell_type": "code",
   "source": [
    "list_of_lists = [[1, 2, 4], [3, 8, 1], [1, 7]]\n",
    "print(list_of_lists)\n",
    "\n",
    "print(\"Перший елемент з сотаннього рядка: \", list_of_lists[-1][0])"
   ],
   "metadata": {
    "id": "Kz2jZHsGeLlz",
    "ExecuteTime": {
     "end_time": "2025-02-24T14:53:17.305619Z",
     "start_time": "2025-02-24T14:53:17.300552Z"
    }
   },
   "outputs": [
    {
     "name": "stdout",
     "output_type": "stream",
     "text": [
      "[[1, 2, 4], [3, 8, 1], [1, 7]]\n",
      "Перший елемент з сотаннього рядка:  1\n"
     ]
    }
   ],
   "execution_count": 53
  },
  {
   "cell_type": "markdown",
   "source": [
    "12. Створіть список з десяти елементів різного типу. Отримайте всі елементи, окрім двох перших та двох останніх та збережіть їх в новій змінній."
   ],
   "metadata": {
    "id": "JA47PKTv8zFK"
   }
  },
  {
   "cell_type": "code",
   "source": [
    "diff_types = [1, 1.3, \"a\", (9, 1), {1, 8}, [7, 5], {\"a\": 1}, True, 4j+8, None]\n",
    "\n",
    "result = diff_types[2:-2]\n",
    "result"
   ],
   "metadata": {
    "id": "_rHdUR-ueP4-",
    "ExecuteTime": {
     "end_time": "2025-02-24T14:57:32.714611Z",
     "start_time": "2025-02-24T14:57:32.708921Z"
    }
   },
   "outputs": [
    {
     "data": {
      "text/plain": [
       "['a', (9, 1), {1, 8}, [7, 5], {'a': 1}, True]"
      ]
     },
     "execution_count": 56,
     "metadata": {},
     "output_type": "execute_result"
    }
   ],
   "execution_count": 56
  },
  {
   "cell_type": "markdown",
   "source": [
    "# V. Робота з кортежами."
   ],
   "metadata": {
    "id": "pCjR1dJb1Qbi"
   }
  },
  {
   "cell_type": "markdown",
   "source": [
    "14. Створити кортеж з один елементом."
   ],
   "metadata": {
    "id": "fAZCxAX06R_k"
   }
  },
  {
   "cell_type": "code",
   "source": [
    "tuple_1 = (1,)\n",
    "tuple_1"
   ],
   "metadata": {
    "id": "H7d82WkQev3e",
    "ExecuteTime": {
     "end_time": "2025-02-24T15:01:22.570593Z",
     "start_time": "2025-02-24T15:01:22.564406Z"
    }
   },
   "outputs": [
    {
     "data": {
      "text/plain": [
       "(1,)"
      ]
     },
     "execution_count": 58,
     "metadata": {},
     "output_type": "execute_result"
    }
   ],
   "execution_count": 58
  },
  {
   "cell_type": "markdown",
   "source": [
    "15. Порівняйте список та кортеж. Назвіть схожості та відмінності, випадки використання."
   ],
   "metadata": {
    "id": "8LCtYcmI6w1M"
   }
  },
  {
   "cell_type": "markdown",
   "source": "При змінні кортежів створюється нова оновлена змінна, в той час як при змінні списків, змінна лише оновлюється. Відповідно у списків буде більше методів.",
   "metadata": {
    "id": "fUsN1Hnue0C6"
   }
  },
  {
   "cell_type": "markdown",
   "source": [
    "16. Створіть кортеж з 11ти елементів чисел з рухомою комою та отримайте кожен парний за індексом елемент в зворотньому порядку. Наприклад, маючи (1.2, 2.3, 3.3, 4.3, 5.3, 6.3, 7.3, 8.3, 9.3, 0.3), отримати (0.3, 8.3, 6.3, 4.3, 2.3). Результат збережіть в нову змінну та виведіть на екран."
   ],
   "metadata": {
    "id": "m0xrwFijAmDD"
   }
  },
  {
   "cell_type": "code",
   "source": [
    "numbers = (1.2, 2.3, 3.3, 4.3, 5.3, 6.3, 7.3, 8.3, 9.3, 0.3, 10.3)\n",
    "\n",
    "even_position_elements = numbers[1::2]\n",
    "result = even_position_elements[::-1]\n",
    "print(result)"
   ],
   "metadata": {
    "id": "p-5DAH6XfAGA",
    "ExecuteTime": {
     "end_time": "2025-02-24T15:15:09.347520Z",
     "start_time": "2025-02-24T15:15:09.343493Z"
    }
   },
   "outputs": [
    {
     "name": "stdout",
     "output_type": "stream",
     "text": [
      "(0.3, 8.3, 6.3, 4.3, 2.3)\n"
     ]
    }
   ],
   "execution_count": 59
  },
  {
   "cell_type": "markdown",
   "source": [
    "# VI. Множини (Set)."
   ],
   "metadata": {
    "id": "rW_I9dt3x6cW"
   }
  },
  {
   "cell_type": "markdown",
   "source": [
    "17. Створити множину без елементів. Після цого за допомогою методу додайте кілька різних елементів до множини. Чи множини є змінним типом даних?"
   ],
   "metadata": {
    "id": "zNjRLHLw1Bgg"
   }
  },
  {
   "cell_type": "code",
   "source": [
    "empty_set = set()\n",
    "empty_set.add(0)\n",
    "empty_set.add(1)\n",
    "empty_set.add(2)\n",
    "\n",
    "print(empty_set)"
   ],
   "metadata": {
    "id": "KOv7zc2Kfo4N",
    "ExecuteTime": {
     "end_time": "2025-02-24T15:19:05.540796Z",
     "start_time": "2025-02-24T15:19:05.535136Z"
    }
   },
   "outputs": [
    {
     "name": "stdout",
     "output_type": "stream",
     "text": [
      "{0, 1, 2}\n"
     ]
    }
   ],
   "execution_count": 66
  },
  {
   "cell_type": "markdown",
   "source": "Сет є змінним типом даних, оскільки за допомогою методів можна додавати/видаляти елементи до вже існуючої змінної.",
   "metadata": {
    "id": "vxS6dVYiftZQ"
   }
  },
  {
   "cell_type": "markdown",
   "source": [
    "18. Створити множину, маючи список my_list = [1, 1, 2, 67, 67, 8, 9]. Пояснити, чому \"зникли\" деякі елементи."
   ],
   "metadata": {
    "id": "gHpT0Zw_1HEF"
   }
  },
  {
   "cell_type": "code",
   "source": [
    "my_list = [1, 1, 2, 67, 67, 8, 9]\n",
    "\n",
    "my_set = set(my_list)\n",
    "my_set"
   ],
   "metadata": {
    "id": "qCN4uvJ_fxmu",
    "ExecuteTime": {
     "end_time": "2025-02-24T15:20:19.432422Z",
     "start_time": "2025-02-24T15:20:19.426513Z"
    }
   },
   "outputs": [
    {
     "data": {
      "text/plain": [
       "{1, 2, 8, 9, 67}"
      ]
     },
     "execution_count": 68,
     "metadata": {},
     "output_type": "execute_result"
    }
   ],
   "execution_count": 68
  },
  {
   "cell_type": "markdown",
   "source": "За означенням, множина містить неповторний набір елементів. В цьому коді ми можемо побачити, як зі списку видаляються дублі за рахунок цієї властивості множин.",
   "metadata": {
    "id": "tFNc1e20fyny"
   }
  },
  {
   "cell_type": "markdown",
   "source": [
    "19. Створіть дві множини. Продемонстуйте над ними операції: обʼєднання, різниці, пересічі та симетричної різниці. Використовуйте методи, що не змінюють множини, а створюють нові."
   ],
   "metadata": {
    "id": "SRMkGizS1UwY"
   }
  },
  {
   "cell_type": "code",
   "source": [
    "set1 = {1, 2, 3, 4}\n",
    "set2 = {3, 4, 5, 6}\n",
    "\n",
    "union = set1.union(set2)\n",
    "\n",
    "difference = set1.difference(set2)\n",
    "\n",
    "intersection = set1.intersection(set2)\n",
    "\n",
    "symmetric_difference = set1.symmetric_difference(set2)\n",
    "\n",
    "print(\"Обʼєднання:\", union)\n",
    "print(\"Різниця:\", difference)\n",
    "print(\"Пересічення:\", intersection)\n",
    "print(\"Симетрична різниця:\", symmetric_difference)"
   ],
   "metadata": {
    "id": "h0T-VuDnf3Ri",
    "ExecuteTime": {
     "end_time": "2025-02-24T15:22:52.312275Z",
     "start_time": "2025-02-24T15:22:52.306567Z"
    }
   },
   "outputs": [
    {
     "name": "stdout",
     "output_type": "stream",
     "text": [
      "Обʼєднання: {1, 2, 3, 4, 5, 6}\n",
      "Різниця: {1, 2}\n",
      "Пересічення: {3, 4}\n",
      "Симетрична різниця: {1, 2, 5, 6}\n"
     ]
    }
   ],
   "execution_count": 73
  },
  {
   "cell_type": "markdown",
   "source": [
    "# VII. Словники (Dictionary)."
   ],
   "metadata": {
    "id": "kWc8gkzTx7Ea"
   }
  },
  {
   "cell_type": "markdown",
   "source": [
    "20. Створіть пустий словник. До нього додайте чотири пари елементів такі, щоб їхні ключі були різних типів. Чи може список бути ключем? Чому?"
   ],
   "metadata": {
    "id": "i5FLwj-B2ybQ"
   }
  },
  {
   "cell_type": "code",
   "source": [
    "dict_1 = {}\n",
    "isinstance(dict_1, dict)\n",
    "\n",
    "dict_1[2] = \"a\"\n",
    "dict_1[(1, 2)] = \"b\"\n",
    "dict_1[\"a\"] = \"c\"\n",
    "dict_1[None] = \"d\"\n",
    "\n",
    "dict_1"
   ],
   "metadata": {
    "id": "hxgv3BzrgLAV",
    "ExecuteTime": {
     "end_time": "2025-02-24T15:24:37.113275Z",
     "start_time": "2025-02-24T15:24:37.107723Z"
    }
   },
   "outputs": [
    {
     "data": {
      "text/plain": [
       "{2: 'a', (1, 2): 'b', 'a': 'c', None: 'd'}"
      ]
     },
     "execution_count": 75,
     "metadata": {},
     "output_type": "execute_result"
    }
   ],
   "execution_count": 75
  },
  {
   "cell_type": "markdown",
   "source": "Ключами для словників можуть бути тільки immutable типи даних. Тож ми не можемо зазначити список як ключ у словнику.",
   "metadata": {
    "id": "zwa7UVN-gR3m"
   }
  },
  {
   "cell_type": "markdown",
   "source": [
    "21. Створіть словник, де значенням в одній з пар теж буде словник, який теж має вкладений словник. Виведіть на екран значення, що міститься в словнику, що знаходиться на найнижчому рівні ієрархії вкладеності (найбільш внутрішній)."
   ],
   "metadata": {
    "id": "WM_pMlJsgoNf"
   }
  },
  {
   "cell_type": "code",
   "source": [
    "my_dict = {\n",
    "    \"first\": {\n",
    "        \"second\": {\n",
    "            \"third\": \"value\"\n",
    "        },\n",
    "        \"bb\": 2\n",
    "    },\n",
    "    \"a\": 1,\n",
    "    \"b\": 2\n",
    "}\n",
    "\n",
    "my_dict[\"first\"][\"second\"][\"third\"]"
   ],
   "metadata": {
    "id": "60dlP7IHhAy4",
    "ExecuteTime": {
     "end_time": "2025-02-24T15:27:26.636026Z",
     "start_time": "2025-02-24T15:27:26.630149Z"
    }
   },
   "outputs": [
    {
     "data": {
      "text/plain": [
       "'value'"
      ]
     },
     "execution_count": 76,
     "metadata": {},
     "output_type": "execute_result"
    }
   ],
   "execution_count": 76
  },
  {
   "cell_type": "markdown",
   "source": [
    "# Вітаю! Ви велика(ий) молодець, що впоралась(вся). Похваліть себе та побалуйте чимось приємним. Я Вами пишаюся."
   ],
   "metadata": {
    "id": "xOZP0hkx6cCr"
   }
  }
 ]
}
