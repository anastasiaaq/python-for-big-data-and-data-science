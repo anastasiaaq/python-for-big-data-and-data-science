{
 "nbformat": 4,
 "nbformat_minor": 0,
 "metadata": {
  "colab": {
   "provenance": []
  },
  "kernelspec": {
   "name": "python3",
   "display_name": "Python 3 (ipykernel)",
   "language": "python"
  },
  "language_info": {
   "name": "python"
  }
 },
 "cells": [
  {
   "cell_type": "markdown",
   "source": [
    "# I. OOP"
   ],
   "metadata": {
    "id": "5qV_sehzFCTp"
   }
  },
  {
   "cell_type": "markdown",
   "source": [
    "1. (6б). Створіть клас Building, додайте три атрибути, один з яких має значення за замовчуванням та два методи на свій розсуд."
   ],
   "metadata": {
    "id": "tx_U_hOALyfg"
   }
  },
  {
   "cell_type": "code",
   "source": [
    "class Building:\n",
    "    def __init__(self, location, price, guests=0):\n",
    "        self.location = location\n",
    "        self.price = price\n",
    "        self.guests = guests\n",
    "\n",
    "    def add_guests(self, amount):\n",
    "        self.guests += amount\n",
    "\n",
    "    def delete_guests(self, amount):\n",
    "        self.guests -= amount"
   ],
   "metadata": {
    "id": "-Vf895KaL88N",
    "ExecuteTime": {
     "end_time": "2025-03-17T19:23:54.630360Z",
     "start_time": "2025-03-17T19:23:54.624870Z"
    }
   },
   "outputs": [],
   "execution_count": 2
  },
  {
   "cell_type": "markdown",
   "source": [
    "2. (2б). Створіть два обʼєкти цього класу, де один з обʼєктів створюється із дефолтним значенням атрибуту. На одному обʼєкті отримайте значення його атрибуту, а на іншому викличте один з його методів."
   ],
   "metadata": {
    "id": "X_UlOMB0L93w"
   }
  },
  {
   "cell_type": "code",
   "source": [
    "building1 = Building(\"Kyiv\", 13000)\n",
    "building2 = Building(\"Lviv\", 9000, 3)\n",
    "\n",
    "print(building1.guests)\n",
    "\n",
    "building2.add_guests(5)\n",
    "print(building2.guests)"
   ],
   "metadata": {
    "id": "7gBu0ESOMCpG",
    "ExecuteTime": {
     "end_time": "2025-03-17T19:24:11.451872Z",
     "start_time": "2025-03-17T19:24:11.446418Z"
    }
   },
   "outputs": [
    {
     "name": "stdout",
     "output_type": "stream",
     "text": [
      "0\n",
      "8\n"
     ]
    }
   ],
   "execution_count": 4
  },
  {
   "cell_type": "markdown",
   "source": [
    "3. (5б). Створіть клас, де атрибути мають різні рівні доступу. Спробуйте отримати їхні значення та опишіть результати."
   ],
   "metadata": {
    "id": "HoqSCZt1MHn5"
   }
  },
  {
   "cell_type": "code",
   "source": [
    "class Building:\n",
    "    def __init__(self, location, price, owner):\n",
    "        self.location = location\n",
    "        self._price = price\n",
    "        self.__owner = owner\n",
    "\n",
    "b1 = Building(\"Kyiv\", 13000, \"Anna\")\n",
    "\n",
    "print(b1.location)\n",
    "\n",
    "print(b1._price)\n",
    "\n",
    "print(b1.__owner)\n",
    "\n",
    "# Публічні атрибути можна читати та змінювати без перешкод\n",
    "# Захищені атрибути доступні в межах класу та підкласів\n",
    "# До приватних атрибутів немає доступу поза межами класу\n"
   ],
   "metadata": {
    "id": "r9b3vJxBMSPV",
    "ExecuteTime": {
     "end_time": "2025-03-17T19:28:49.721799Z",
     "start_time": "2025-03-17T19:28:49.688724Z"
    }
   },
   "outputs": [
    {
     "name": "stdout",
     "output_type": "stream",
     "text": [
      "Kyiv\n",
      "13000\n"
     ]
    },
    {
     "ename": "AttributeError",
     "evalue": "'Building' object has no attribute '__owner'",
     "output_type": "error",
     "traceback": [
      "\u001B[1;31m---------------------------------------------------------------------------\u001B[0m",
      "\u001B[1;31mAttributeError\u001B[0m                            Traceback (most recent call last)",
      "Cell \u001B[1;32mIn[5], line 13\u001B[0m\n\u001B[0;32m      9\u001B[0m \u001B[38;5;28mprint\u001B[39m(b1\u001B[38;5;241m.\u001B[39mlocation)\n\u001B[0;32m     11\u001B[0m \u001B[38;5;28mprint\u001B[39m(b1\u001B[38;5;241m.\u001B[39m_price)\n\u001B[1;32m---> 13\u001B[0m \u001B[38;5;28mprint\u001B[39m(\u001B[43mb1\u001B[49m\u001B[38;5;241;43m.\u001B[39;49m\u001B[43m__owner\u001B[49m)\n\u001B[0;32m     15\u001B[0m \u001B[38;5;28mprint\u001B[39m(b1\u001B[38;5;241m.\u001B[39m_Building__owner)\n",
      "\u001B[1;31mAttributeError\u001B[0m: 'Building' object has no attribute '__owner'"
     ]
    }
   ],
   "execution_count": 5
  },
  {
   "cell_type": "markdown",
   "source": [
    "4. (7б). Як ви розумієте термін self? Для чого використовується метод __init __?"
   ],
   "metadata": {
    "id": "5op2m2vgMSkZ"
   }
  },
  {
   "cell_type": "markdown",
   "source": "self - це посилання на об'єкт класу (екземпляр). метод __init__ є конструктором класу, що служить при створенні нового об'єкту класа. також ініціалізує атрибути об'єкта",
   "metadata": {
    "id": "DyiPqNRvMasx"
   }
  },
  {
   "cell_type": "markdown",
   "source": [
    "5. (9б). Створіть клас 3D-фігура без атрибутів, з методом get_volume для отримання об'єму фігури, що повертає 0 та __add __, який приймає self та other в якості аргументів, а повертає суму об'ємів 3d-фігур self та other."
   ],
   "metadata": {
    "id": "-6X8EGfjMd2y"
   }
  },
  {
   "cell_type": "code",
   "source": [
    "class ThreeDFigure:\n",
    "    def __init__(self):\n",
    "        pass\n",
    "\n",
    "    def get_volume(self):\n",
    "        return 0\n",
    "\n",
    "    def __add__(self, other):\n",
    "        return self.get_volume() + other.get_volume()\n",
    "\n",
    "\n",
    "figure1 = ThreeDFigure()\n",
    "figure2 = ThreeDFigure()\n",
    "\n",
    "print(figure1.get_volume())\n",
    "print(figure2.get_volume())\n",
    "\n",
    "total_volume = figure1 + figure2\n",
    "print(total_volume)"
   ],
   "metadata": {
    "id": "4rvO_wYUMaEr",
    "ExecuteTime": {
     "end_time": "2025-03-18T07:35:56.711353Z",
     "start_time": "2025-03-18T07:35:56.703487Z"
    }
   },
   "outputs": [
    {
     "name": "stdout",
     "output_type": "stream",
     "text": [
      "0\n",
      "0\n",
      "0\n"
     ]
    }
   ],
   "execution_count": 1
  },
  {
   "cell_type": "markdown",
   "source": [
    "6. (11б). Створіть 2 дочірніх класи від 3d-фігура: Циліндр та Куб, які мають атрибути, необхідні для розрахунку об'єму. Визначте метод get_volume в кожному з них так, щоби вони розраховували об'єм у залежності від формули для кожного типу фігури. Створіть обʼєкт класу Циліндр та обʼєкт класу Куб. Виконайте операцію суми за допомогою оператора + між ними, аби знайти сумарний об'єм."
   ],
   "metadata": {
    "id": "SFcKnnv5Mo_z"
   }
  },
  {
   "cell_type": "code",
   "source": [
    "import math\n",
    "\n",
    "class Cylinder(ThreeDFigure):\n",
    "    def __init__(self, radius, height):\n",
    "        super().__init__()\n",
    "        self.radius = radius\n",
    "        self.height = height\n",
    "\n",
    "    def get_volume(self):\n",
    "        return math.pi * self.radius ** 2 * self.height\n",
    "\n",
    "\n",
    "class Cube(ThreeDFigure):\n",
    "    def __init__(self, side_length):\n",
    "        super().__init__()\n",
    "        self.side_length = side_length\n",
    "\n",
    "    def get_volume(self):\n",
    "        return self.side_length ** 3\n",
    "\n",
    "\n",
    "cylinder = Cylinder(3, 5)\n",
    "cube = Cube(4)\n",
    "\n",
    "print(cylinder.get_volume())\n",
    "print(cube.get_volume())\n",
    "\n",
    "print(cylinder + cube)"
   ],
   "metadata": {
    "id": "H3GVNr69Muf3",
    "ExecuteTime": {
     "end_time": "2025-03-18T07:39:09.201660Z",
     "start_time": "2025-03-18T07:39:09.195661Z"
    }
   },
   "outputs": [
    {
     "name": "stdout",
     "output_type": "stream",
     "text": [
      "141.3716694115407\n",
      "64\n",
      "205.3716694115407\n"
     ]
    }
   ],
   "execution_count": 3
  },
  {
   "cell_type": "markdown",
   "source": [
    "7. (3б). Продемонструйте різницю між isinstance та issubclass."
   ],
   "metadata": {
    "id": "HCvR206YMvLK"
   }
  },
  {
   "cell_type": "code",
   "source": [
    "class Animal:\n",
    "    pass\n",
    "\n",
    "class Dog(Animal):\n",
    "    pass\n",
    "\n",
    "animal = Animal()\n",
    "dog = Dog()\n",
    "\n",
    "print(f\"{isinstance(dog, Dog) = }\")\n",
    "print(f\"{isinstance(dog, Animal) = }\")\n",
    "print(f\"{isinstance(animal, Dog) = }\")\n",
    "\n",
    "print(f\"{issubclass(Dog, Animal) = }\")\n",
    "print(f\"{issubclass(Animal, Dog) = }\")"
   ],
   "metadata": {
    "id": "L_V1bBvDM0GN",
    "ExecuteTime": {
     "end_time": "2025-03-18T07:45:02.105618Z",
     "start_time": "2025-03-18T07:45:02.099266Z"
    }
   },
   "outputs": [
    {
     "name": "stdout",
     "output_type": "stream",
     "text": [
      "isinstance(dog, Dog) = True\n",
      "isinstance(dog, Animal) = True\n",
      "isinstance(animal, Dog) = False\n",
      "issubclass(Dog, Animal) = True\n",
      "issubclass(Animal, Dog) = False\n"
     ]
    }
   ],
   "execution_count": 8
  },
  {
   "cell_type": "markdown",
   "source": [
    "8. (13б). Створіть клас EWallet з приватними атрибутами balance та id. Реалізуйте методи поповнення та зняття коштів, забезпечивши належну інкапсуляцію. Підказка: використовуйте декоратори property та setter."
   ],
   "metadata": {
    "id": "jjsaBZ-iM0Qq"
   }
  },
  {
   "cell_type": "code",
   "source": [
    "class EWallet:\n",
    "    def __init__(self, wallet_id, initial_balance=0):\n",
    "        self._id = wallet_id\n",
    "        self._balance = initial_balance\n",
    "\n",
    "    @property\n",
    "    def balance(self):\n",
    "        return self._balance\n",
    "\n",
    "    @balance.setter\n",
    "    def balance(self, value):\n",
    "        if value < 0:\n",
    "            raise ValueError(\"Баланс не може бути від'ємним\")\n",
    "        self._balance = value\n",
    "\n",
    "    @property\n",
    "    def id(self):\n",
    "        return self._id\n",
    "\n",
    "    def deposit(self, amount):\n",
    "        if amount <= 0:\n",
    "            raise ValueError(\"Сума поповнення має бути більшою за 0\")\n",
    "        self.balance += amount\n",
    "\n",
    "    def withdraw(self, amount):\n",
    "        if amount <= 0:\n",
    "            raise ValueError(\"Сума для зняття має бути більшою за 0\")\n",
    "        if amount > self.balance:\n",
    "            raise ValueError(\"Недостатньо коштів на рахунку\")\n",
    "        self.balance -= amount\n",
    "\n",
    "\n",
    "wallet = EWallet(\"wallet\", 140)\n",
    "\n",
    "print(wallet.balance)\n",
    "wallet.deposit(100)\n",
    "print(wallet.balance)\n",
    "wallet.withdraw(30)\n",
    "print(wallet.balance)\n"
   ],
   "metadata": {
    "id": "xCvZ7lh8M7YA",
    "ExecuteTime": {
     "end_time": "2025-03-18T07:52:17.210785Z",
     "start_time": "2025-03-18T07:52:17.203267Z"
    }
   },
   "outputs": [
    {
     "name": "stdout",
     "output_type": "stream",
     "text": [
      "140\n",
      "240\n",
      "210\n"
     ]
    }
   ],
   "execution_count": 11
  },
  {
   "cell_type": "markdown",
   "source": [
    "9. (11б). Створіть клас ShoppingCart, який містить список об'єктів типу Item. Реалізуйте методи для додавання айтемів, їх видалення та відображення списку айтемів."
   ],
   "metadata": {
    "id": "tIzL2SJTM8ft"
   }
  },
  {
   "cell_type": "code",
   "source": [
    "class Item:\n",
    "    def __init__(self, name, price, quantity=1):\n",
    "        self.name = name\n",
    "        self.price = price\n",
    "        self.quantity = quantity\n",
    "\n",
    "    def __str__(self):\n",
    "        return f\"{self.name} - {self.price} x{self.quantity}\"\n",
    "\n",
    "\n",
    "class ShoppingCart:\n",
    "    def __init__(self):\n",
    "        self.items = []\n",
    "\n",
    "    def add_item(self, item):\n",
    "        self.items.append(item)\n",
    "\n",
    "    def remove_item(self, item_name):\n",
    "        for item in self.items:\n",
    "            if item.name == item_name:\n",
    "                self.items.remove(item)\n",
    "                return\n",
    "        return\n",
    "\n",
    "    def display_items(self):\n",
    "        if not self.items:\n",
    "            return \"Кошик порожній.\"\n",
    "        return \"\\n\".join(str(item) for item in self.items)\n",
    "\n",
    "\n",
    "cart = ShoppingCart()\n",
    "cart.add_item(Item(\"Apple\", 20, 3))\n",
    "cart.add_item(Item(\"Banana\", 54, 2))\n",
    "cart.add_item(Item(\"Orange\", 38, 5))\n",
    "\n",
    "print(cart.display_items())\n",
    "\n",
    "cart.remove_item(\"Banana\")\n",
    "print(\"\\nПісля видалення банану:\")\n",
    "\n",
    "print(cart.display_items())\n"
   ],
   "metadata": {
    "id": "HWxfJKLtNAUZ",
    "ExecuteTime": {
     "end_time": "2025-03-18T08:00:24.482420Z",
     "start_time": "2025-03-18T08:00:24.473413Z"
    }
   },
   "outputs": [
    {
     "name": "stdout",
     "output_type": "stream",
     "text": [
      "Apple - 20 x3\n",
      "Banana - 54 x2\n",
      "Orange - 38 x5\n",
      "\n",
      "Після видалення банану:\n",
      "Apple - 20 x3\n",
      "Orange - 38 x5\n"
     ]
    }
   ],
   "execution_count": 17
  },
  {
   "cell_type": "markdown",
   "source": [
    "10. (13б). Створіть клас Vehicle з атрибутами brand (manufacturer) та production_age. Створіть ще один клас Engine з такими атрибутами, як type (ex. petrol) та size (volume, litres). Створіть клас Car, який успадковує обидва класи Vehicle та Engine. Продемонструйте використання множинної спадковості, створивши обʼєкт класу Car та отримавши mro для цього класу."
   ],
   "metadata": {
    "id": "lmV8pAwwNIqu"
   }
  },
  {
   "cell_type": "code",
   "source": [
    "class Vehicle:\n",
    "    def __init__(self, brand, production_age):\n",
    "        self.brand = brand\n",
    "        self.age = production_age\n",
    "\n",
    "\n",
    "class Engine:\n",
    "    def __init__(self, type, size):\n",
    "        self.type = type\n",
    "        self.size = size\n",
    "\n",
    "\n",
    "class Car(Vehicle, Engine):\n",
    "    def __init__(self, brand, production_age, engine_type, size):\n",
    "        Vehicle.__init__(self, brand, production_age)\n",
    "        Engine.__init__(self, engine_type, size)\n",
    "\n",
    "\n",
    "car = Car(\"Toyota\", 5, \"Petrol\", 6)\n",
    "print(car.brand, car.type, car.size, car.age)\n",
    "\n",
    "print(Car.__mro__)"
   ],
   "metadata": {
    "id": "R49grKlWNPeN",
    "ExecuteTime": {
     "end_time": "2025-03-18T08:04:52.435253Z",
     "start_time": "2025-03-18T08:04:52.427207Z"
    }
   },
   "outputs": [
    {
     "name": "stdout",
     "output_type": "stream",
     "text": [
      "Toyota Petrol 6 5\n",
      "(<class '__main__.Car'>, <class '__main__.Vehicle'>, <class '__main__.Engine'>, <class 'object'>)\n"
     ]
    }
   ],
   "execution_count": 20
  },
  {
   "cell_type": "markdown",
   "source": [
    "# II. Iterator"
   ],
   "metadata": {
    "id": "dIJyUiNBFG8G"
   }
  },
  {
   "cell_type": "markdown",
   "source": [
    "11. (4б). Визначте рядок(str) з 4ма різними за значенням символами. Створіть ітератор на основі цього рядка. Викличте 5 разів функцію next на ітераторі, 4ри перших з них огорніть у ф-цію print()."
   ],
   "metadata": {
    "id": "13vsm0NyKIzL"
   }
  },
  {
   "cell_type": "code",
   "source": [
    "my_str = \"fhsl\"\n",
    "\n",
    "iterator = iter(my_str)\n",
    "\n",
    "for _ in range(4):\n",
    "    print(next(iterator))\n",
    "\n",
    "next(iterator)\n"
   ],
   "metadata": {
    "id": "81ntabAkKuz-",
    "ExecuteTime": {
     "end_time": "2025-03-18T08:07:05.166050Z",
     "start_time": "2025-03-18T08:07:05.145981Z"
    }
   },
   "outputs": [
    {
     "name": "stdout",
     "output_type": "stream",
     "text": [
      "f\n",
      "h\n",
      "s\n",
      "l\n"
     ]
    },
    {
     "ename": "StopIteration",
     "evalue": "",
     "output_type": "error",
     "traceback": [
      "\u001B[1;31m---------------------------------------------------------------------------\u001B[0m",
      "\u001B[1;31mStopIteration\u001B[0m                             Traceback (most recent call last)",
      "Cell \u001B[1;32mIn[22], line 8\u001B[0m\n\u001B[0;32m      5\u001B[0m \u001B[38;5;28;01mfor\u001B[39;00m _ \u001B[38;5;129;01min\u001B[39;00m \u001B[38;5;28mrange\u001B[39m(\u001B[38;5;241m4\u001B[39m):\n\u001B[0;32m      6\u001B[0m     \u001B[38;5;28mprint\u001B[39m(\u001B[38;5;28mnext\u001B[39m(iterator))\n\u001B[1;32m----> 8\u001B[0m \u001B[38;5;28;43mnext\u001B[39;49m\u001B[43m(\u001B[49m\u001B[43miterator\u001B[49m\u001B[43m)\u001B[49m\n",
      "\u001B[1;31mStopIteration\u001B[0m: "
     ]
    }
   ],
   "execution_count": 22
  },
  {
   "cell_type": "markdown",
   "source": [
    "А що якщо викликати цю ж функцію на рядку?"
   ],
   "metadata": {
    "id": "aekWHGXOLRsO"
   }
  },
  {
   "cell_type": "code",
   "source": "next(my_str)",
   "metadata": {
    "id": "mxATGsErLV1i",
    "ExecuteTime": {
     "end_time": "2025-03-18T08:08:01.672677Z",
     "start_time": "2025-03-18T08:08:01.661704Z"
    }
   },
   "outputs": [
    {
     "ename": "TypeError",
     "evalue": "'str' object is not an iterator",
     "output_type": "error",
     "traceback": [
      "\u001B[1;31m---------------------------------------------------------------------------\u001B[0m",
      "\u001B[1;31mTypeError\u001B[0m                                 Traceback (most recent call last)",
      "Cell \u001B[1;32mIn[23], line 1\u001B[0m\n\u001B[1;32m----> 1\u001B[0m \u001B[38;5;28;43mnext\u001B[39;49m\u001B[43m(\u001B[49m\u001B[43mmy_str\u001B[49m\u001B[43m)\u001B[49m\n",
      "\u001B[1;31mTypeError\u001B[0m: 'str' object is not an iterator"
     ]
    }
   ],
   "execution_count": 23
  },
  {
   "cell_type": "markdown",
   "source": [
    " 12. (5б). Опишіть своїми словами в одному реченні, як ви розумієте різницю між ітерабельними обʼєктами та ітераторами (можна на прикладі)."
   ],
   "metadata": {
    "id": "XwtMEopwJ4pH"
   }
  },
  {
   "cell_type": "markdown",
   "source": "Ітерабельні об'єкти - це, наприклад, масиви, тому що їх можна перебирати в циклі напряму. А ітератори це об'єкти, що допомагають ітеруватись по різним об'єктам за своїми певними правилами.",
   "metadata": {
    "id": "-sHrODc3KFn8"
   }
  },
  {
   "cell_type": "markdown",
   "source": [
    "13. (11б). Створіть клас, що має визначений Iterator Protocol та при кожному виклику next повертає назву дня тижня, поки вони не вичерпаються. Зверніть увагу, що порядок має значення."
   ],
   "metadata": {
    "id": "E9qJWmNbK8Gl"
   }
  },
  {
   "cell_type": "code",
   "source": [
    "class WeekIterator:\n",
    "    def __init__(self):\n",
    "        self.days_of_week = [\"Monday\", \"Tuesday\", \"Wednesday\", \"Thursday\", \"Friday\", \"Saturday\", \"Sunday\"]\n",
    "        self.index = 0\n",
    "\n",
    "    def __iter__(self):\n",
    "        return self\n",
    "\n",
    "    def __next__(self):\n",
    "        if self.index < len(self.days_of_week):\n",
    "            day = self.days_of_week[self.index]\n",
    "            self.index += 1\n",
    "            return day\n",
    "        else:\n",
    "            raise StopIteration\n",
    "\n",
    "\n",
    "week_iterator = WeekIterator()\n",
    "\n",
    "for day in week_iterator:\n",
    "    print(day)"
   ],
   "metadata": {
    "id": "cqx-g_RsLo6I",
    "ExecuteTime": {
     "end_time": "2025-03-18T08:11:45.175201Z",
     "start_time": "2025-03-18T08:11:45.170874Z"
    }
   },
   "outputs": [
    {
     "name": "stdout",
     "output_type": "stream",
     "text": [
      "Monday\n",
      "Tuesday\n",
      "Wednesday\n",
      "Thursday\n",
      "Friday\n",
      "Saturday\n",
      "Sunday\n"
     ]
    }
   ],
   "execution_count": 24
  },
  {
   "cell_type": "markdown",
   "source": [
    "# Вітаю! Ви велика(ий) молодець, що впоралась(вся). Похваліть себе та побалуйте чимось приємним. Я Вами пишаюся."
   ],
   "metadata": {
    "id": "Z3E3S_s1Fv7-"
   }
  }
 ]
}
